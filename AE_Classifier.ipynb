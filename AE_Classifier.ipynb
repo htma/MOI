{
 "cells": [
  {
   "cell_type": "code",
   "execution_count": 10,
   "id": "614f4286",
   "metadata": {},
   "outputs": [],
   "source": [
    "import torch\n",
    "import torch.nn as nn\n",
    "from torch.autograd import Variable\n",
    "import torch.utils.data as Data\n",
    "import torchvision\n",
    "import matplotlib.pyplot as plt\n",
    "import numpy as np\n",
    "\n",
    "from sklearn.metrics import roc_auc_score"
   ]
  },
  {
   "cell_type": "code",
   "execution_count": null,
   "id": "1afd064d",
   "metadata": {},
   "outputs": [],
   "source": []
  },
  {
   "cell_type": "code",
   "execution_count": 11,
   "id": "5fbf753c",
   "metadata": {},
   "outputs": [],
   "source": [
    "# Mnist dataset\n",
    "train_data = torchvision.datasets.MNIST(\n",
    "    root='./mnist/',\n",
    "    train=True,\n",
    "    transform=torchvision.transforms.ToTensor(),\n",
    "download=True)\n",
    "test_data = torchvision.datasets.MNIST(\n",
    "    root='./mnist/',\n",
    "    train=False,\n",
    "    transform=torchvision.transforms.ToTensor(),\n",
    "    download=True)"
   ]
  },
  {
   "cell_type": "code",
   "execution_count": 12,
   "id": "15e0740c",
   "metadata": {},
   "outputs": [
    {
     "name": "stdout",
     "output_type": "stream",
     "text": [
      "torch.Size([60000, 28, 28])\n",
      "torch.Size([60000])\n"
     ]
    },
    {
     "name": "stderr",
     "output_type": "stream",
     "text": [
      "/home/mht/anaconda3/envs/mpy/lib/python3.7/site-packages/torchvision/datasets/mnist.py:65: UserWarning: train_labels has been renamed targets\n",
      "  warnings.warn(\"train_labels has been renamed targets\")\n"
     ]
    },
    {
     "data": {
      "image/png": "[encoded data removed]",
      "text/plain": [
       "<Figure size 640x480 with 1 Axes>"
      ]
     },
     "metadata": {},
     "output_type": "display_data"
    }
   ],
   "source": [
    "# plot one example\n",
    "print(train_data.data.size())\n",
    "print(train_data.train_labels.size())\n",
    "plt.imshow(train_data.data[2].numpy(), cmap='gray')\n",
    "plt.title('%i' % train_data.train_labels[2])\n",
    "plt.show()"
   ]
  },
  {
   "cell_type": "code",
   "execution_count": 13,
   "id": "04d9ab7b",
   "metadata": {},
   "outputs": [],
   "source": [
    "# Data loader, the batch shape is (50, 1, 28, 28)\n",
    "train_loader = Data.DataLoader(dataset=train_data, batch_size=50, shuffle=True)\n",
    "test_loader = Data.DataLoader(dataset=test_data, batch_size=50, shuffle=False)\n",
    "\n"
   ]
  },
  {
   "cell_type": "code",
   "execution_count": 14,
   "id": "f0b20013",
   "metadata": {},
   "outputs": [],
   "source": [
    "class AE(nn.Module):\n",
    "    def __init__(self):\n",
    "        super(AE, self).__init__()\n",
    "        \n",
    "        self.encoder = nn.Sequential(\n",
    "            nn.Linear(28*28, 256),\n",
    "            nn.ReLU(),\n",
    "            nn.Dropout()\n",
    "        )\n",
    "                \n",
    "    def forward(self, x):\n",
    "       output = self.encoder(x)\n",
    "       return output\n",
    "\n",
    "\n",
    "class Classifier(nn.Module):\n",
    "    def __init__(self):\n",
    "        super(Classifier, self).__init__()\n",
    "        self.FC = nn.Sequential(\n",
    "            nn.Linear(256, 10),\n",
    "            #nn.ReLU(),\n",
    "           # nn.Dropout(0.3),\n",
    "            #nn.Sigmoid()         \n",
    "        )\n",
    "    def forward(self, x):        \n",
    "        return self.FC(x) "
   ]
  },
  {
   "cell_type": "code",
   "execution_count": 16,
   "id": "9b014a0b",
   "metadata": {},
   "outputs": [
    {
     "name": "stdout",
     "output_type": "stream",
     "text": [
      "Iter-0; Train loss: 0.506\n",
      "Iter-0; Test loss: 0.3751; ACC : 0.894\n"
     ]
    }
   ],
   "source": [
    "autoencoder = AE()\n",
    "clas = Classifier()\n",
    "optimAE = torch.optim.Adagrad(autoencoder.parameters(), lr=0.005)\n",
    "optimClass = torch.optim.Adagrad(clas.parameters(), lr=0.001)\n",
    "clas_loss = nn.CrossEntropyLoss()\n",
    "\n",
    "\n",
    "for it in range(1):\n",
    "    \n",
    "   \n",
    "    \n",
    "    for id, (x, y) in enumerate(train_loader):\n",
    "        xx = Variable(x.view(-1, 28*28))\n",
    "       # xy = Variable(x.view(-1, 28*28))\n",
    "        target = Variable(y)\n",
    "       \n",
    "        \n",
    "        autoencoder.train()\n",
    "        clas.train()\n",
    "        zx = autoencoder(xx)\n",
    "        pred = clas(zx)\n",
    "       # print(target.shape)\n",
    "        loss = clas_loss(pred, target)\n",
    "        \n",
    "        y_true = target.view(-1,1)\n",
    "        y_pred = pred.view(-1,1)\n",
    "        \n",
    "        \n",
    "        optimAE.zero_grad()\n",
    "        optimClass.zero_grad()\n",
    "        \n",
    "        loss.backward()\n",
    "        \n",
    "        optimAE.step()\n",
    "        optimClass.step()\n",
    "        flag = 1\n",
    "    \n",
    "    if flag == 1:\n",
    "          \n",
    "            print('Iter-{}; Train loss: {:.4}'.format(it, loss))\n",
    "          \n",
    "            \n",
    "    loss , total, correct = 0, 0, 0\n",
    "    with torch.no_grad():\n",
    "        #AE.eval()\n",
    "        #clas.eval()\n",
    "        for x, y in test_loader:\n",
    "            xx = Variable(x.view(-1, 28*28))\n",
    "            target = Variable(y)\n",
    "            zx = autoencoder(xx)\n",
    "            pred = clas(zx)\n",
    "            loss += clas_loss(pred, target)\n",
    "            correct += (pred.argmax(1) == target).sum()\n",
    "            total += x.size(0)\n",
    "            \n",
    "    loss = loss.item()/len(test_loader)\n",
    "    acc = correct.item()/total\n",
    "    \n",
    "    print('Iter-{}; Test loss: {:.4}; ACC : {}'.format(it,loss, acc))\n",
    "    \n",
    "        "
   ]
  },
  {
   "cell_type": "code",
   "execution_count": null,
   "id": "5fff5f45",
   "metadata": {},
   "outputs": [],
   "source": []
  },
  {
   "cell_type": "code",
   "execution_count": null,
   "id": "bcc7f0bf",
   "metadata": {},
   "outputs": [],
   "source": []
  },
  {
   "cell_type": "code",
   "execution_count": null,
   "id": "805c13ca",
   "metadata": {},
   "outputs": [],
   "source": []
  }
 ],
 "metadata": {
  "kernelspec": {
   "display_name": "Python 3 (ipykernel)",
   "language": "python",
   "name": "python3"
  },
  "language_info": {
   "codemirror_mode": {
    "name": "ipython",
    "version": 3
   },
   "file_extension": ".py",
   "mimetype": "text/x-python",
   "name": "python",
   "nbconvert_exporter": "python",
   "pygments_lexer": "ipython3",
   "version": "3.7.12"
  }
 },
 "nbformat": 4,
 "nbformat_minor": 5
}
